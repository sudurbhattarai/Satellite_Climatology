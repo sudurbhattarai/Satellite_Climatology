{
 "cells": [
  {
   "cell_type": "markdown",
   "id": "23d2b9d3-b6f5-47f0-8e87-288643155fd8",
   "metadata": {
    "tags": []
   },
   "source": [
    "# Satellite Climatology: Remote Sensing of a Changing Climate: Exercises - 1\n",
    "## Investigating MODIS/Terra Aerosol Cloud Water Vapor Ozone products\n",
    "\n",
    "Hendrik Andersen, contact: hendrik.andersen@kit.edu\n",
    "\n",
    "https://ladsweb.modaps.eosdis.nasa.gov/missions-and-measurements/products/MOD06_L2\n",
    "\n",
    "https://ladsweb.modaps.eosdis.nasa.gov/missions-and-measurements/products/MOD08_D3\n",
    "\n",
    "https://ladsweb.modaps.eosdis.nasa.gov/missions-and-measurements/products/MOD08_M3"
   ]
  },
  {
   "cell_type": "code",
   "execution_count": 3,
   "id": "1f95941f-ec18-49e3-98db-08e7808c4104",
   "metadata": {
    "tags": []
   },
   "outputs": [],
   "source": [
    "# import relevant modules first\n",
    "import xarray as xr\n",
    "import matplotlib.pyplot as plt\n",
    "import cartopy.crs as ccrs\n",
    "\n",
    "# define the path to the data\n",
    "dataDir = \"../data/\"\n",
    "\n",
    "# open the data\n",
    "MOD06_L2 = xr.open_dataset(dataDir+\"MOD06_L2.A2020016.2230.061.2020017071412.hdf\", engine=\"netcdf4\")\n",
    "MOD08_D3 = xr.open_dataset(dataDir+\"MOD08_D3.A2020015.061.2020017000441.hdf\", engine=\"netcdf4\")\n",
    "MOD08_M3 = xr.open_dataset(dataDir+\"MOD08_M3.A2020001.061.2020032093438.hdf\", engine=\"netcdf4\")"
   ]
  },
  {
   "cell_type": "markdown",
   "id": "463d55dd-87d9-4e89-9997-f6bef5ad76bb",
   "metadata": {},
   "source": [
    "Tasks:\n",
    "1) Check out the links provided above to get some general intuition on the product levels and the contained products.\n",
    "2) Get an overview of the different products within the MOD06_L2, MOD08_D3 and MOD08_M3 datasets. Explore the different data variables contained in the Datasets. You can use both Panoply and python for this\n",
    "3) Plot maps of individual cloud properties to characterize the observed clouds and get familiar with the different products. You may use the last example of the map plotting from the prior script to guide you.\n",
    "4) What are the differences and characteristics of the individual products levels, and what do you think are their (dis-)advantages, potentials and limitations?\n",
    "\n",
    "Create new code cells below for your analyses"
   ]
  }
 ],
 "metadata": {
  "kernelspec": {
   "display_name": "Python 3 (ipykernel)",
   "language": "python",
   "name": "python3"
  },
  "language_info": {
   "codemirror_mode": {
    "name": "ipython",
    "version": 3
   },
   "file_extension": ".py",
   "mimetype": "text/x-python",
   "name": "python",
   "nbconvert_exporter": "python",
   "pygments_lexer": "ipython3",
   "version": "3.11.5"
  }
 },
 "nbformat": 4,
 "nbformat_minor": 5
}
